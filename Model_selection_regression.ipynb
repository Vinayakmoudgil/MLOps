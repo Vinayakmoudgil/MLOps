{
  "nbformat": 4,
  "nbformat_minor": 0,
  "metadata": {
    "colab": {
      "name": "Model_selection_regression.ipynb",
      "provenance": [],
      "collapsed_sections": [],
      "toc_visible": true,
      "include_colab_link": true
    },
    "kernelspec": {
      "name": "python3",
      "display_name": "Python 3"
    }
  },
  "cells": [
    {
      "cell_type": "markdown",
      "metadata": {
        "id": "view-in-github",
        "colab_type": "text"
      },
      "source": [
        "<a href=\"https://colab.research.google.com/github/Vinayakmoudgil/MLOps/blob/main/Model_selection_regression.ipynb\" target=\"_parent\"><img src=\"https://colab.research.google.com/assets/colab-badge.svg\" alt=\"Open In Colab\"/></a>"
      ]
    },
    {
      "cell_type": "markdown",
      "metadata": {
        "id": "CazISR8X_HUG"
      },
      "source": [
        "# Model Selection for the Data set"
      ]
    },
    {
      "cell_type": "markdown",
      "metadata": {
        "id": "pOyqYHTk_Q57"
      },
      "source": [
        "## Importing the libraries"
      ]
    },
    {
      "cell_type": "code",
      "metadata": {
        "id": "T_YHJjnD_Tja"
      },
      "source": [
        "import numpy as np\n",
        "import matplotlib.pyplot as plt\n",
        "import pandas as pd"
      ],
      "execution_count": 1,
      "outputs": []
    },
    {
      "cell_type": "markdown",
      "metadata": {
        "id": "vgC61-ah_WIz"
      },
      "source": [
        "## Importing the dataset"
      ]
    },
    {
      "cell_type": "code",
      "metadata": {
        "id": "UrxyEKGn_ez7"
      },
      "source": [
        "dataset = pd.read_csv('Data.csv')\n",
        "X = dataset.iloc[:, :-1].values\n",
        "y = dataset.iloc[:, -1].values\n",
        "y_svr=y.reshape(len(y),1)"
      ],
      "execution_count": 14,
      "outputs": []
    },
    {
      "cell_type": "markdown",
      "metadata": {
        "id": "WemVnqgeA70k"
      },
      "source": [
        "## Splitting the dataset into the Training set and Test set"
      ]
    },
    {
      "cell_type": "code",
      "metadata": {
        "id": "Kb_v_ae-A-20"
      },
      "source": [
        "from sklearn.model_selection import train_test_split\n",
        "X_train, X_test, y_train, y_test = train_test_split(X, y, test_size = 0.2, random_state = 0)"
      ],
      "execution_count": 3,
      "outputs": []
    },
    {
      "cell_type": "markdown",
      "source": [
        "Splitting the dataset into the Training set and Test set for SVR"
      ],
      "metadata": {
        "id": "M8fWx5Gvbroo"
      }
    },
    {
      "cell_type": "code",
      "source": [
        "from sklearn.model_selection import train_test_split\n",
        "X_train_s, X_test_s, y_train_s, y_test_s = train_test_split(X, y_svr, test_size = 0.2, random_state = 0)"
      ],
      "metadata": {
        "id": "omWDgygjbvcD"
      },
      "execution_count": 42,
      "outputs": []
    },
    {
      "cell_type": "markdown",
      "source": [
        "Feature scaling for SVR"
      ],
      "metadata": {
        "id": "zvpXk8UpcMCU"
      }
    },
    {
      "cell_type": "code",
      "source": [
        "from sklearn.preprocessing import StandardScaler\n",
        "scx=StandardScaler()\n",
        "scy=StandardScaler()\n",
        "X_train_s=scx.fit_transform(X_train_s)\n",
        "y_train_s=scy.fit_transform(y_train_s)"
      ],
      "metadata": {
        "id": "PZIS8ylrcOe4"
      },
      "execution_count": 43,
      "outputs": []
    },
    {
      "cell_type": "markdown",
      "metadata": {
        "id": "k-McZVsQBINc"
      },
      "source": [
        "## Training the Regression models on the Training set"
      ]
    },
    {
      "cell_type": "markdown",
      "source": [
        "Mulitple Linear Regression Model"
      ],
      "metadata": {
        "id": "DMRfr7gcj1fA"
      }
    },
    {
      "cell_type": "code",
      "metadata": {
        "id": "ywPjx0L1BMiD",
        "colab": {
          "base_uri": "https://localhost:8080/"
        },
        "outputId": "bce93cf3-e4bd-4ed9-d94b-b88df790c9e8"
      },
      "source": [
        "from sklearn.linear_model import LinearRegression\n",
        "regressor = LinearRegression()\n",
        "regressor.fit(X_train, y_train)\n"
      ],
      "execution_count": 10,
      "outputs": [
        {
          "output_type": "execute_result",
          "data": {
            "text/plain": [
              "LinearRegression()"
            ]
          },
          "metadata": {},
          "execution_count": 10
        }
      ]
    },
    {
      "cell_type": "markdown",
      "source": [
        "Training Polynomial Regression Model"
      ],
      "metadata": {
        "id": "q9X5Yw_ajVs0"
      }
    },
    {
      "cell_type": "code",
      "source": [
        "from sklearn.preprocessing import PolynomialFeatures\n",
        "from sklearn.linear_model import LinearRegression\n",
        "ply_reg=PolynomialFeatures(degree=4)\n",
        "reg_poly=LinearRegression()\n",
        "reg_poly.fit(ply_reg.fit_transform(X_train),y_train)"
      ],
      "metadata": {
        "id": "HlxpA2ZujS98"
      },
      "execution_count": null,
      "outputs": []
    },
    {
      "cell_type": "markdown",
      "source": [
        "SVR Training the data set"
      ],
      "metadata": {
        "id": "QA8QQd5Kc0pA"
      }
    },
    {
      "cell_type": "code",
      "source": [
        "from sklearn.svm import SVR\n",
        "reg_svr=SVR(kernel='rbf')\n",
        "reg_svr.fit(X_train_s,y_train_s)"
      ],
      "metadata": {
        "colab": {
          "base_uri": "https://localhost:8080/"
        },
        "id": "P70HfSUhczyQ",
        "outputId": "dc354cbd-7410-4281-f900-92d4552b9ecd"
      },
      "execution_count": 45,
      "outputs": [
        {
          "output_type": "stream",
          "name": "stderr",
          "text": [
            "/usr/local/lib/python3.7/dist-packages/sklearn/utils/validation.py:993: DataConversionWarning: A column-vector y was passed when a 1d array was expected. Please change the shape of y to (n_samples, ), for example using ravel().\n",
            "  y = column_or_1d(y, warn=True)\n"
          ]
        },
        {
          "output_type": "execute_result",
          "data": {
            "text/plain": [
              "SVR()"
            ]
          },
          "metadata": {},
          "execution_count": 45
        }
      ]
    },
    {
      "cell_type": "markdown",
      "source": [
        "Traing the Decision tree model"
      ],
      "metadata": {
        "id": "XjwH9YjAiRo1"
      }
    },
    {
      "cell_type": "code",
      "source": [
        "from sklearn.tree import DecisionTreeRegressor\n",
        "reg_dt=DecisionTreeRegressor(random_state=0)\n",
        "reg_dt.fit(X_train,y_train)"
      ],
      "metadata": {
        "colab": {
          "base_uri": "https://localhost:8080/"
        },
        "id": "ChWaZU87iW60",
        "outputId": "a8ef3a26-ade0-4b80-b2b7-7b96f4ff1701"
      },
      "execution_count": 51,
      "outputs": [
        {
          "output_type": "execute_result",
          "data": {
            "text/plain": [
              "DecisionTreeRegressor(random_state=0)"
            ]
          },
          "metadata": {},
          "execution_count": 51
        }
      ]
    },
    {
      "cell_type": "markdown",
      "source": [
        "Training the Random Forest Model"
      ],
      "metadata": {
        "id": "WdbEASK5kV7k"
      }
    },
    {
      "cell_type": "code",
      "source": [
        "from sklearn.ensemble import RandomForestRegressor\n",
        "reg_rfm=RandomForestRegressor(n_estimators=10,random_state=0)\n",
        "reg_rfm.fit(X_train,y_train)"
      ],
      "metadata": {
        "colab": {
          "base_uri": "https://localhost:8080/"
        },
        "id": "q2yS_d4Xkbhs",
        "outputId": "35856b19-bb85-4680-e266-f4b087c35b8e"
      },
      "execution_count": 60,
      "outputs": [
        {
          "output_type": "execute_result",
          "data": {
            "text/plain": [
              "RandomForestRegressor(n_estimators=10, random_state=0)"
            ]
          },
          "metadata": {},
          "execution_count": 60
        }
      ]
    },
    {
      "cell_type": "markdown",
      "metadata": {
        "id": "xNkXL1YQBiBT"
      },
      "source": [
        "## Predicting the Test set results for all the Models\n",
        "\n",
        "\n"
      ]
    },
    {
      "cell_type": "markdown",
      "source": [
        "Predicting the result for Multiple Regression Model"
      ],
      "metadata": {
        "id": "UN6f1hfEj_GD"
      }
    },
    {
      "cell_type": "code",
      "metadata": {
        "id": "TQKmwvtdBkyb",
        "colab": {
          "base_uri": "https://localhost:8080/"
        },
        "outputId": "41c518da-b8fc-40bc-f77f-4f2c9c2280f4"
      },
      "source": [
        "y_pred = regressor.predict(X_test)\n",
        "np.set_printoptions(precision=2)\n",
        "print(np.concatenate((y_pred.reshape(len(y_pred),1), y_test.reshape(len(y_test),1)),1))\n"
      ],
      "execution_count": 11,
      "outputs": [
        {
          "output_type": "stream",
          "name": "stdout",
          "text": [
            "[[431.43 431.23]\n",
            " [458.56 460.01]\n",
            " [462.75 461.14]\n",
            " ...\n",
            " [469.52 473.26]\n",
            " [442.42 438.  ]\n",
            " [461.88 463.28]]\n",
            "[[433.94 431.23]\n",
            " [457.9  460.01]\n",
            " [460.52 461.14]\n",
            " ...\n",
            " [469.53 473.26]\n",
            " [438.27 438.  ]\n",
            " [461.66 463.28]]\n"
          ]
        }
      ]
    },
    {
      "cell_type": "markdown",
      "source": [
        "Predicting result for Polynomial regression"
      ],
      "metadata": {
        "id": "QteB1FQQjqmk"
      }
    },
    {
      "cell_type": "code",
      "source": [
        "y_pred_poly=reg_poly.predict(ply_reg.fit_transform(X_test))\n",
        "print(np.concatenate((y_pred_poly.reshape(len(y_pred_poly),1),y_test.reshape(len(y_test),1)),1))"
      ],
      "metadata": {
        "colab": {
          "base_uri": "https://localhost:8080/"
        },
        "id": "7asAb573jtTL",
        "outputId": "5428bcda-ea28-4882-9f2a-6b39e64d0e42"
      },
      "execution_count": 58,
      "outputs": [
        {
          "output_type": "stream",
          "name": "stdout",
          "text": [
            "[[433.94 431.23]\n",
            " [457.9  460.01]\n",
            " [460.52 461.14]\n",
            " ...\n",
            " [469.53 473.26]\n",
            " [438.27 438.  ]\n",
            " [461.66 463.28]]\n"
          ]
        }
      ]
    },
    {
      "cell_type": "markdown",
      "source": [
        "Predicting SVR results"
      ],
      "metadata": {
        "id": "028Qg8SIdYxC"
      }
    },
    {
      "cell_type": "code",
      "source": [
        "y_pred_svr=scy.inverse_transform([reg_svr.predict(scx.transform(X_test_s))]).reshape(-1,1)\n",
        "np.set_printoptions(precision=2)\n",
        "print(np.concatenate((y_pred_svr.reshape(-1,1),y_test.reshape(-1,1)),1))"
      ],
      "metadata": {
        "colab": {
          "base_uri": "https://localhost:8080/"
        },
        "id": "_YWl7J_qdYcH",
        "outputId": "9f35d8a5-2ba7-469c-99d4-9374d2c43499"
      },
      "execution_count": 57,
      "outputs": [
        {
          "output_type": "stream",
          "name": "stdout",
          "text": [
            "[[434.05 431.23]\n",
            " [457.94 460.01]\n",
            " [461.03 461.14]\n",
            " ...\n",
            " [470.6  473.26]\n",
            " [439.42 438.  ]\n",
            " [460.92 463.28]]\n"
          ]
        }
      ]
    },
    {
      "cell_type": "markdown",
      "source": [
        "Predicting results for Decision tree Model"
      ],
      "metadata": {
        "id": "rYLh2PSPiyKs"
      }
    },
    {
      "cell_type": "code",
      "source": [
        "y_pred_dt=reg_dt.predict(X_test)\n",
        "print(np.concatenate((y_pred.reshape(-1,1),y_test.reshape(-1,1)),1))"
      ],
      "metadata": {
        "colab": {
          "base_uri": "https://localhost:8080/"
        },
        "id": "fa0HXYdPi1SV",
        "outputId": "def99ed1-f1b1-4583-c037-ee313ce04810"
      },
      "execution_count": 53,
      "outputs": [
        {
          "output_type": "stream",
          "name": "stdout",
          "text": [
            "[[431.43 431.23]\n",
            " [458.56 460.01]\n",
            " [462.75 461.14]\n",
            " ...\n",
            " [469.52 473.26]\n",
            " [442.42 438.  ]\n",
            " [461.88 463.28]]\n"
          ]
        }
      ]
    },
    {
      "cell_type": "markdown",
      "source": [
        "Prediction for Random Forest Model"
      ],
      "metadata": {
        "id": "sdlcpr4fk9kT"
      }
    },
    {
      "cell_type": "code",
      "source": [
        "y_pred_rfm=reg_rfm.predict(X_test)\n",
        "print(np.concatenate((y_pred_rfm.reshape(-1,1),y_test.reshape(-1,1)),1))"
      ],
      "metadata": {
        "colab": {
          "base_uri": "https://localhost:8080/"
        },
        "id": "B0DCs8bkk2ED",
        "outputId": "ef7f437b-65c8-403d-f53a-95422e6fc6eb"
      },
      "execution_count": 62,
      "outputs": [
        {
          "output_type": "stream",
          "name": "stdout",
          "text": [
            "[[434.05 431.23]\n",
            " [458.79 460.01]\n",
            " [463.02 461.14]\n",
            " ...\n",
            " [469.48 473.26]\n",
            " [439.57 438.  ]\n",
            " [460.38 463.28]]\n"
          ]
        }
      ]
    },
    {
      "cell_type": "markdown",
      "metadata": {
        "id": "50DZZy0UyhLi"
      },
      "source": [
        "## Evaluating the Model Performance for all the Models"
      ]
    },
    {
      "cell_type": "code",
      "metadata": {
        "id": "xPagAOKDywV4",
        "colab": {
          "base_uri": "https://localhost:8080/"
        },
        "outputId": "bd9f1461-e740-4940-b655-78a1bfe98994"
      },
      "source": [
        "from sklearn.metrics import r2_score\n",
        "all_pred={}\n",
        "all_pred['Mutiple Regression Model']=(r2_score(y_test, y_pred))\n",
        "all_pred['Polynomial Regression Model']=(r2_score(y_test,y_pred_poly))\n",
        "all_pred['SVR Model']=(r2_score(y_test,y_pred_svr))\n",
        "all_pred['Decision Tree Model']=(r2_score(y_test,y_pred_dt))\n",
        "all_pred['Randoom Forest Model']=(r2_score(y_test,y_pred_rfm))\n",
        "print(all_pred)\n",
        "print('Model Slected: ',max(zip(all_pred.values(),all_pred.keys())))"
      ],
      "execution_count": 85,
      "outputs": [
        {
          "output_type": "stream",
          "name": "stdout",
          "text": [
            "{'Mutiple Regression Model': 0.9325315554761303, 'Polynomial Regression Model': 0.9458192606428147, 'SVR Model': 0.9480784049986258, 'Decision Tree Model': 0.922905874177941, 'Randoom Forest Model': 0.9615908334363876}\n",
            "Model Slected:  (0.9615908334363876, 'Randoom Forest Model')\n"
          ]
        }
      ]
    }
  ]
}
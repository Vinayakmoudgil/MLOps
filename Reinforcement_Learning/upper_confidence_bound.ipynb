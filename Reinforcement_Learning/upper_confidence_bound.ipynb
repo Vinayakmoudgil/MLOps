{
  "nbformat": 4,
  "nbformat_minor": 0,
  "metadata": {
    "colab": {
      "name": "upper_confidence_bound.ipynb",
      "provenance": [],
      "collapsed_sections": [],
      "include_colab_link": true
    },
    "kernelspec": {
      "name": "python3",
      "display_name": "Python 3"
    }
  },
  "cells": [
    {
      "cell_type": "markdown",
      "metadata": {
        "id": "view-in-github",
        "colab_type": "text"
      },
      "source": [
        "<a href=\"https://colab.research.google.com/github/Vinayakmoudgil/MLOps/blob/main/Reinforcement%20Learning/upper_confidence_bound.ipynb\" target=\"_parent\"><img src=\"https://colab.research.google.com/assets/colab-badge.svg\" alt=\"Open In Colab\"/></a>"
      ]
    },
    {
      "cell_type": "markdown",
      "metadata": {
        "id": "QJdrJJQUv3-k"
      },
      "source": [
        "# Upper Confidence Bound (UCB)"
      ]
    },
    {
      "cell_type": "markdown",
      "metadata": {
        "id": "2XCjepjJwEv-"
      },
      "source": [
        "## Importing the libraries"
      ]
    },
    {
      "cell_type": "code",
      "source": [
        "import pandas as pd\n",
        "import numpy as np\n",
        "import matplotlib.pyplot as plt"
      ],
      "metadata": {
        "id": "Rx1nD7LeAAbB"
      },
      "execution_count": 1,
      "outputs": []
    },
    {
      "cell_type": "markdown",
      "metadata": {
        "id": "npqlXjaNwYTv"
      },
      "source": [
        "## Importing the dataset"
      ]
    },
    {
      "cell_type": "code",
      "source": [
        "df = pd.read_csv('Ads_CTR_Optimisation.csv')"
      ],
      "metadata": {
        "id": "kAjbIdubAA1_"
      },
      "execution_count": 2,
      "outputs": []
    },
    {
      "cell_type": "markdown",
      "metadata": {
        "id": "PaSbots_wfoB"
      },
      "source": [
        "## Implementing UCB"
      ]
    },
    {
      "cell_type": "code",
      "source": [
        "import math\n",
        "N = 10000\n",
        "d = 10\n",
        "ad_selected = []\n",
        "numbers_of_selection = [0] * d\n",
        "sums_of_rewards = [0] * d\n",
        "total_reward = 0\n",
        "for n in range(0,N):\n",
        "  ad=0\n",
        "  max_bound = 0\n",
        "  for i in range(0,d):\n",
        "    if (numbers_of_selection[i] >0):\n",
        "      avg_round = sums_of_rewards[i] / numbers_of_selection[i]\n",
        "      delta_i = math.sqrt(3/2 * math.log(n + 1) / numbers_of_selection[i])\n",
        "      upper_bound= avg_round + delta_i\n",
        "    else: \n",
        "      upper_bound = 1e400\n",
        "    if (upper_bound > max_bound):\n",
        "      max_bound = upper_bound\n",
        "      ad = i\n",
        "  ad_selected.append(ad)\n",
        "  numbers_of_selection[ad] +=1\n",
        "  reward = df.values[n,ad]\n",
        "  sums_of_rewards[ad] +=reward\n",
        "  total_reward += reward\n",
        "print(total_reward,sums_of_rewards,numbers_of_selection)"
      ],
      "metadata": {
        "colab": {
          "base_uri": "https://localhost:8080/"
        },
        "id": "u2A7oQA5ABOO",
        "outputId": "50498cd6-f662-4b43-a87f-7e6f60b5235f"
      },
      "execution_count": 14,
      "outputs": [
        {
          "output_type": "stream",
          "name": "stdout",
          "text": [
            "2178 [120, 47, 7, 38, 1675, 1, 27, 236, 20, 7] [705, 387, 186, 345, 6323, 150, 292, 1170, 256, 186]\n"
          ]
        }
      ]
    },
    {
      "cell_type": "markdown",
      "metadata": {
        "id": "AXftWcjDwsYj"
      },
      "source": [
        "## Visualising the results"
      ]
    },
    {
      "cell_type": "code",
      "source": [
        "plt.hist(ad_selected)\n",
        "plt.title('Histogram of Ad selection')\n",
        "plt.xlabel('Ads')\n",
        "plt.ylabel('Number of times the Ad was selected')\n",
        "plt.show()"
      ],
      "metadata": {
        "colab": {
          "base_uri": "https://localhost:8080/",
          "height": 295
        },
        "id": "ypk9qU1kABmW",
        "outputId": "13d1c1f9-666e-4a2d-deb3-29e7c039132a"
      },
      "execution_count": 11,
      "outputs": [
        {
          "output_type": "display_data",
          "data": {
            "text/plain": [
              "<Figure size 432x288 with 1 Axes>"
            ],
            "image/png": "[encoded data removed]"
          },
          "metadata": {
            "needs_background": "light"
          }
        }
      ]
    }
  ]
}